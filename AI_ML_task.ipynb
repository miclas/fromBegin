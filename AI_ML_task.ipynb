{
  "nbformat": 4,
  "nbformat_minor": 0,
  "metadata": {
    "colab": {
      "name": "AI/ML_task.ipynb",
      "provenance": [],
      "authorship_tag": "ABX9TyPvtfiRmJfJ0b6KTVc56pce"
    },
    "kernelspec": {
      "name": "python3",
      "display_name": "Python 3"
    },
    "language_info": {
      "name": "python"
    }
  },
  "cells": [
    {
      "cell_type": "code",
      "metadata": {
        "id": "6NNu4fKYQu7H"
      },
      "source": [
        "import numpy as np\n",
        "import pandas as pd\n",
        "import matplotlib.pyplot as plt\n",
        "from sklearn.model_selection import train_test_split\n",
        "from sklearn.preprocessing import StandardScaler\n",
        "from sklearn.metrics import accuracy_score\n",
        "\n",
        "x_url = []\n",
        "y_url = []\n",
        "for tmp in range(1,18):\n",
        "  x_url.append('https://raw.githubusercontent.com/miclas/fromBegin/master/dataset/x_train_CA'+str(tmp)+ '.csv')\n",
        "  y_url.append('https://raw.githubusercontent.com/miclas/fromBegin/master/dataset/y_train_CA'+str(tmp)+ '.csv')\n",
        " \n",
        "df_x = pd.read_csv(x_url[6], header = None, names=[\"feat\"+str(a) for a in range(1,97)])\n",
        "df_y = pd.read_csv(y_url[6], header = None, names = ['Label'])\n",
        "\n",
        "#print(x.sum()[:51])\n",
        "\n",
        "for tmp in range(len(df_y)):\n",
        "  if df_y['Label'][tmp] > 0.5:\n",
        "    df_y['Label'][tmp] = 1\n",
        "  else:\n",
        "    df_y['Label'][tmp] = 0\n",
        "\n",
        "#print(y.isnull().sum())\n",
        "\n",
        "# for col in range(1,97):\n",
        "#   name = 'feat' + str(col)\n",
        "#   for row in range(1060):\n",
        "#       x[name][row] = round(x[name][row],4)\n",
        "\n",
        "#x.values[0]\n",
        "#y[100:142]"
      ],
      "execution_count": 229,
      "outputs": []
    },
    {
      "cell_type": "code",
      "metadata": {
        "id": "WDbbuevmlFvz",
        "colab": {
          "base_uri": "https://localhost:8080/"
        },
        "outputId": "804f97b7-d403-4ed5-c234-73d24d70c313"
      },
      "source": [
        "y = df_y.values\n",
        "x = df_x.values\n",
        "zz = df_y.iloc[:,:].values\n",
        "feat = df_x.iloc[:, [1,2]].values\n",
        "print('etykiety klas:', np.unique(y))"
      ],
      "execution_count": 230,
      "outputs": [
        {
          "output_type": "stream",
          "text": [
            "etykiety klas: [0. 1.]\n"
          ],
          "name": "stdout"
        }
      ]
    },
    {
      "cell_type": "code",
      "metadata": {
        "id": "ZqfY0zpmV-fG"
      },
      "source": [
        "# plt.scatter(feat[:30, 0], feat[:30, 1], color ='red', marker = 'o', label = 'etykieta1')\n",
        "# plt.scatter(feat[30:60, 0], feat[30:60, 1], color ='blue', marker = 'x', label = 'etykieta1')\n",
        "# plt.xlabel('feat1')\n",
        "# plt.ylabel('feat2')\n",
        "# plt.legend(loc='upper left')\n",
        "# plt.show()"
      ],
      "execution_count": 231,
      "outputs": []
    },
    {
      "cell_type": "code",
      "metadata": {
        "id": "ysd0W8kJz3YM"
      },
      "source": [
        "X_train, X_test, y_train, y_test = train_test_split(x, y, test_size = 0.3, random_state=1, stratify=y)"
      ],
      "execution_count": 232,
      "outputs": []
    },
    {
      "cell_type": "code",
      "metadata": {
        "id": "L8JMmDRh6HoK"
      },
      "source": [
        "#print('Liczba etykiet w zbiorze y:', np.bincount(y))\n",
        "y_train=np.ravel(y_train)"
      ],
      "execution_count": 233,
      "outputs": []
    },
    {
      "cell_type": "code",
      "metadata": {
        "id": "IwOz6SNL6UwM"
      },
      "source": [
        "sc = StandardScaler()\n",
        "sc.fit(X_train)\n",
        "X_train_std = sc.transform(X_train)\n",
        "X_test_std = sc.transform(X_test)"
      ],
      "execution_count": 234,
      "outputs": []
    },
    {
      "cell_type": "markdown",
      "metadata": {
        "id": "p1khZiT7-D8z"
      },
      "source": [
        "mały\n",
        "#wiekszy\n",
        "str 70 - accurecy_score"
      ]
    },
    {
      "cell_type": "code",
      "metadata": {
        "colab": {
          "base_uri": "https://localhost:8080/"
        },
        "id": "ji5H5dnl7EdE",
        "outputId": "b736aa52-62d5-4bb9-a533-1249407f4221"
      },
      "source": [
        "from sklearn.ensemble import RandomForestClassifier\n",
        "\n",
        "forest = RandomForestClassifier(criterion='entropy',\n",
        "                                n_estimators=600, \n",
        "                                random_state=1,\n",
        "                                n_jobs=4)\n",
        "forest.fit(X_train_std, y_train)"
      ],
      "execution_count": 235,
      "outputs": [
        {
          "output_type": "execute_result",
          "data": {
            "text/plain": [
              "RandomForestClassifier(bootstrap=True, ccp_alpha=0.0, class_weight=None,\n",
              "                       criterion='entropy', max_depth=None, max_features='auto',\n",
              "                       max_leaf_nodes=None, max_samples=None,\n",
              "                       min_impurity_decrease=0.0, min_impurity_split=None,\n",
              "                       min_samples_leaf=1, min_samples_split=2,\n",
              "                       min_weight_fraction_leaf=0.0, n_estimators=600, n_jobs=4,\n",
              "                       oob_score=False, random_state=1, verbose=0,\n",
              "                       warm_start=False)"
            ]
          },
          "metadata": {
            "tags": []
          },
          "execution_count": 235
        }
      ]
    },
    {
      "cell_type": "code",
      "metadata": {
        "id": "SBYl2nUn-Ixj"
      },
      "source": [
        "y_pred = forest.predict(X_test_std)"
      ],
      "execution_count": 236,
      "outputs": []
    },
    {
      "cell_type": "code",
      "metadata": {
        "colab": {
          "base_uri": "https://localhost:8080/"
        },
        "id": "v4DBdhMWgL1g",
        "outputId": "407ae2f2-5808-4af2-a1c8-e3ea58649688"
      },
      "source": [
        "print('nieprawidłowo sklasyfikowane próbki: %d' % (y_test != y_pred).sum())"
      ],
      "execution_count": 237,
      "outputs": [
        {
          "output_type": "stream",
          "text": [
            "nieprawidłowo sklasyfikowane próbki: 6168\n"
          ],
          "name": "stdout"
        }
      ]
    },
    {
      "cell_type": "code",
      "metadata": {
        "colab": {
          "base_uri": "https://localhost:8080/"
        },
        "id": "Oy6qJ-jCgWwT",
        "outputId": "e457563c-7d37-48ba-8ba1-44dc72c614c8"
      },
      "source": [
        "print(accuracy_score(y_test, y_pred))"
      ],
      "execution_count": 238,
      "outputs": [
        {
          "output_type": "stream",
          "text": [
            "0.9811320754716981\n"
          ],
          "name": "stdout"
        }
      ]
    },
    {
      "cell_type": "code",
      "metadata": {
        "colab": {
          "base_uri": "https://localhost:8080/"
        },
        "id": "qP4alMfsgoro",
        "outputId": "4647323e-ebf1-4341-e049-0bb5e84a6bba"
      },
      "source": [
        "from sklearn.svm import SVC\n",
        "\n",
        "svm = SVC(kernel='rbf', random_state=1, gamma=0.05, C=10)\n",
        "svm.fit(X_train_std, y_train)\n"
      ],
      "execution_count": 246,
      "outputs": [
        {
          "output_type": "execute_result",
          "data": {
            "text/plain": [
              "SVC(C=10, break_ties=False, cache_size=200, class_weight=None, coef0=0.0,\n",
              "    decision_function_shape='ovr', degree=3, gamma=0.05, kernel='linear',\n",
              "    max_iter=-1, probability=False, random_state=1, shrinking=True, tol=0.001,\n",
              "    verbose=False)"
            ]
          },
          "metadata": {
            "tags": []
          },
          "execution_count": 246
        }
      ]
    },
    {
      "cell_type": "code",
      "metadata": {
        "id": "CrnpoopTi2oL"
      },
      "source": [
        "y_pred = svm.predict(X_test_std)"
      ],
      "execution_count": 247,
      "outputs": []
    },
    {
      "cell_type": "code",
      "metadata": {
        "colab": {
          "base_uri": "https://localhost:8080/"
        },
        "id": "rnvejgaukkUL",
        "outputId": "83bfeaf7-58b6-4ba1-a7c0-9e8034641a79"
      },
      "source": [
        "print(accuracy_score(y_test, y_pred))"
      ],
      "execution_count": 248,
      "outputs": [
        {
          "output_type": "stream",
          "text": [
            "0.9685534591194969\n"
          ],
          "name": "stdout"
        }
      ]
    },
    {
      "cell_type": "code",
      "metadata": {
        "colab": {
          "base_uri": "https://localhost:8080/"
        },
        "id": "rUCB3pPJksSU",
        "outputId": "52e58a92-3639-440f-f9bf-b24634858050"
      },
      "source": [
        "from sklearn.neighbors import KNeighborsClassifier\n",
        "\n",
        "\n",
        "knn = KNeighborsClassifier(n_neighbors=5, p=2, metric='minkowski')\n",
        "knn.fit(X_train_std, y_train)"
      ],
      "execution_count": 243,
      "outputs": [
        {
          "output_type": "execute_result",
          "data": {
            "text/plain": [
              "KNeighborsClassifier(algorithm='auto', leaf_size=30, metric='minkowski',\n",
              "                     metric_params=None, n_jobs=None, n_neighbors=5, p=2,\n",
              "                     weights='uniform')"
            ]
          },
          "metadata": {
            "tags": []
          },
          "execution_count": 243
        }
      ]
    },
    {
      "cell_type": "code",
      "metadata": {
        "colab": {
          "base_uri": "https://localhost:8080/"
        },
        "id": "js8TQxwdoBiB",
        "outputId": "62ff883e-ca14-467c-9fd3-2cfd83e0001c"
      },
      "source": [
        "y_pred = svm.predict(X_test_std)\n",
        "print(accuracy_score(y_test, y_pred))"
      ],
      "execution_count": 244,
      "outputs": [
        {
          "output_type": "stream",
          "text": [
            "0.9779874213836478\n"
          ],
          "name": "stdout"
        }
      ]
    },
    {
      "cell_type": "code",
      "metadata": {
        "colab": {
          "base_uri": "https://localhost:8080/"
        },
        "id": "mWTPBVU4oGqa",
        "outputId": "b02b8138-e5ea-45a2-a826-7b90c02f6bdf"
      },
      "source": [
        "from sklearn.preprocessing import StandardScaler\n",
        "from sklearn.decomposition import PCA\n",
        "from sklearn.linear_model import LogisticRegression\n",
        "from sklearn.pipeline import make_pipeline\n",
        "\n",
        "pipe_lr = make_pipeline(StandardScaler(),\n",
        "                        PCA(n_components=2),\n",
        "                        LogisticRegression(random_state=1))\n",
        "\n",
        "pipe_lr.fit(X_train, y_train)\n",
        "y_pred = pipe_lr.predict(X_test)\n",
        "print('Dokładność dla danych testowych: %.3f' % pipe_lr.score(X_test, y_test))"
      ],
      "execution_count": 245,
      "outputs": [
        {
          "output_type": "stream",
          "text": [
            "Dokładność dla danych testowych: 0.981\n"
          ],
          "name": "stdout"
        }
      ]
    },
    {
      "cell_type": "code",
      "metadata": {
        "colab": {
          "base_uri": "https://localhost:8080/"
        },
        "id": "2Fv2nvuWo3Su",
        "outputId": "152fb7cb-3c03-4909-ce62-b03557efc20d"
      },
      "source": [
        "from sklearn.linear_model import Perceptron\n",
        "\n",
        "ppn = Perceptron(max_iter=40, eta0=0.1, random_state=1)\n",
        "ppn.fit(X_train_std, y_train)\n",
        "y_pred = svm.predict(X_test_std)\n",
        "print(accuracy_score(y_test, y_pred))"
      ],
      "execution_count": 249,
      "outputs": [
        {
          "output_type": "stream",
          "text": [
            "0.9685534591194969\n"
          ],
          "name": "stdout"
        }
      ]
    },
    {
      "cell_type": "code",
      "metadata": {
        "id": "LnnkjRvwtuH_"
      },
      "source": [
        "# X_combined_std = np.vstack((X_train_std, X_test_std))\n",
        "# y_combined = np.hstack((y_train, y_test))\n",
        "\n",
        "# połączenie wierszy/kolumn - może do widoku potrzeba będzie"
      ],
      "execution_count": 250,
      "outputs": []
    },
    {
      "cell_type": "code",
      "metadata": {
        "colab": {
          "base_uri": "https://localhost:8080/"
        },
        "id": "t8plDUFMuDAN",
        "outputId": "4856931d-d632-4419-a055-3d69de57aa8d"
      },
      "source": [
        "from sklearn.linear_model import LogisticRegression\n",
        "\n",
        "lr = LogisticRegression(C=100.0, random_state=1, max_iter=250)\n",
        "lr.fit(X_train_std, y_train)\n",
        "y_pred = svm.predict(X_test_std)\n",
        "print(accuracy_score(y_test, y_pred))"
      ],
      "execution_count": 252,
      "outputs": [
        {
          "output_type": "stream",
          "text": [
            "0.9685534591194969\n"
          ],
          "name": "stdout"
        }
      ]
    },
    {
      "cell_type": "code",
      "metadata": {
        "id": "xbe-vW4CwNtE"
      },
      "source": [
        "#Zapobieganie przetrenowaniu za pomocą regularyzacji\n",
        "\n",
        "# weights, params = [], []\n",
        "# for c in np.arange(-5, 5):\n",
        "#     lr = LogisticRegression(C=10.**c, random_state=1)\n",
        "#     lr.fit(X_train_std, y_train)\n",
        "#     weights.append(lr.coef_[1])\n",
        "#     params.append(10.**c)\n",
        "\n",
        "# weights = np.array(weights)\n",
        "# plt.plot(params, weights[:, 0],\n",
        "#          label='Długość płatka')\n",
        "# plt.plot(params, weights[:, 1], linestyle='--',\n",
        "#          label='Szerokość płatka')\n",
        "# plt.ylabel('Współczynnik wag')\n",
        "# plt.xlabel('C')\n",
        "# plt.legend(loc='upper left')\n",
        "# plt.xscale('log')\n",
        "# #plt.savefig('rysunki/03_08.png', dpi=300)\n",
        "# plt.show()"
      ],
      "execution_count": null,
      "outputs": []
    }
  ]
}