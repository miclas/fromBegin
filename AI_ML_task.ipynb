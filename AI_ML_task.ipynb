{
  "nbformat": 4,
  "nbformat_minor": 0,
  "metadata": {
    "colab": {
      "name": "AI/ML_task.ipynb",
      "provenance": [],
      "authorship_tag": "ABX9TyN21zofGRkmwvnHVibK7Y02"
    },
    "kernelspec": {
      "name": "python3",
      "display_name": "Python 3"
    },
    "language_info": {
      "name": "python"
    }
  },
  "cells": [
    {
      "cell_type": "code",
      "metadata": {
        "id": "6NNu4fKYQu7H"
      },
      "source": [
        "import numpy as np\n",
        "import pandas as pd\n",
        "import matplotlib.pyplot as plt\n",
        "from sklearn.model_selection import train_test_split\n",
        "from sklearn.preprocessing import StandardScaler\n",
        "from sklearn.metrics import accuracy_score\n",
        "\n",
        "x_url = []\n",
        "y_url = []\n",
        "for tmp in range(1,18):\n",
        "  x_url.append('https://raw.githubusercontent.com/miclas/fromBegin/master/dataset/x_train_CA'+str(tmp)+ '.csv')\n",
        "  y_url.append('https://raw.githubusercontent.com/miclas/fromBegin/master/dataset/y_train_CA'+str(tmp)+ '.csv')\n",
        " \n",
        "df_x = pd.read_csv(x_url[10], header = None, names=[\"feat\"+str(a) for a in range(1,97)])\n",
        "df_y = pd.read_csv(y_url[10], header = None, names = ['Label'])\n",
        "\n",
        "#print(x.sum()[:51])\n",
        "for tmp in range(1060):\n",
        "  if df_y['Label'][tmp] > 0.5:\n",
        "    df_y['Label'][tmp] = 1\n",
        "  else:\n",
        "    df_y['Label'][tmp] = 0\n",
        "\n",
        "#print(y.isnull().sum())\n",
        "\n",
        "# for col in range(1,97):\n",
        "#   name = 'feat' + str(col)\n",
        "#   for row in range(1060):\n",
        "#       x[name][row] = round(x[name][row],4)\n",
        "\n",
        "#x.values[0]\n",
        "#y[100:142]"
      ],
      "execution_count": 181,
      "outputs": []
    },
    {
      "cell_type": "code",
      "metadata": {
        "id": "WDbbuevmlFvz",
        "colab": {
          "base_uri": "https://localhost:8080/"
        },
        "outputId": "b93cb95d-8b4d-4917-ac1f-2834089adbb6"
      },
      "source": [
        "y = df_y.values\n",
        "x = df_x.values\n",
        "zz = df_y.iloc[:,:].values\n",
        "feat = df_x.iloc[:, [1,2]].values\n",
        "print('etykiety klas:', np.unique(y))"
      ],
      "execution_count": 182,
      "outputs": [
        {
          "output_type": "stream",
          "text": [
            "etykiety klas: [0. 1.]\n"
          ],
          "name": "stdout"
        }
      ]
    },
    {
      "cell_type": "code",
      "metadata": {
        "id": "ZqfY0zpmV-fG"
      },
      "source": [
        "# plt.scatter(feat[:30, 0], feat[:30, 1], color ='red', marker = 'o', label = 'etykieta1')\n",
        "# plt.scatter(feat[30:60, 0], feat[30:60, 1], color ='blue', marker = 'x', label = 'etykieta1')\n",
        "# plt.xlabel('feat1')\n",
        "# plt.ylabel('feat2')\n",
        "# plt.legend(loc='upper left')\n",
        "# plt.show()"
      ],
      "execution_count": 183,
      "outputs": []
    },
    {
      "cell_type": "code",
      "metadata": {
        "id": "ysd0W8kJz3YM"
      },
      "source": [
        "X_train, X_test, y_train, y_test = train_test_split(x, y, test_size = 0.3, random_state=1, stratify=y)"
      ],
      "execution_count": 184,
      "outputs": []
    },
    {
      "cell_type": "code",
      "metadata": {
        "id": "L8JMmDRh6HoK"
      },
      "source": [
        "#print('Liczba etykiet w zbiorze y:', np.bincount(y))\n",
        "y_train=np.ravel(y_train)"
      ],
      "execution_count": 185,
      "outputs": []
    },
    {
      "cell_type": "code",
      "metadata": {
        "id": "IwOz6SNL6UwM"
      },
      "source": [
        "sc = StandardScaler()\n",
        "sc.fit(X_train)\n",
        "X_train_std = sc.transform(X_train)\n",
        "X_test_std = sc.transform(X_test)"
      ],
      "execution_count": 186,
      "outputs": []
    },
    {
      "cell_type": "markdown",
      "metadata": {
        "id": "p1khZiT7-D8z"
      },
      "source": [
        "mały\n",
        "#wiekszy\n",
        "str 70 - accurecy_score"
      ]
    },
    {
      "cell_type": "code",
      "metadata": {
        "colab": {
          "base_uri": "https://localhost:8080/"
        },
        "id": "ji5H5dnl7EdE",
        "outputId": "c874b4c3-2378-488b-8233-f362ef07a3d1"
      },
      "source": [
        "from sklearn.ensemble import RandomForestClassifier\n",
        "\n",
        "forest = RandomForestClassifier(criterion='entropy',\n",
        "                                n_estimators=600, \n",
        "                                random_state=1,\n",
        "                                n_jobs=4)\n",
        "forest.fit(X_train_std, y_train)"
      ],
      "execution_count": 187,
      "outputs": [
        {
          "output_type": "execute_result",
          "data": {
            "text/plain": [
              "RandomForestClassifier(bootstrap=True, ccp_alpha=0.0, class_weight=None,\n",
              "                       criterion='entropy', max_depth=None, max_features='auto',\n",
              "                       max_leaf_nodes=None, max_samples=None,\n",
              "                       min_impurity_decrease=0.0, min_impurity_split=None,\n",
              "                       min_samples_leaf=1, min_samples_split=2,\n",
              "                       min_weight_fraction_leaf=0.0, n_estimators=600, n_jobs=4,\n",
              "                       oob_score=False, random_state=1, verbose=0,\n",
              "                       warm_start=False)"
            ]
          },
          "metadata": {
            "tags": []
          },
          "execution_count": 187
        }
      ]
    },
    {
      "cell_type": "code",
      "metadata": {
        "id": "SBYl2nUn-Ixj"
      },
      "source": [
        "y_pred = forest.predict(X_test_std)"
      ],
      "execution_count": 188,
      "outputs": []
    },
    {
      "cell_type": "code",
      "metadata": {
        "colab": {
          "base_uri": "https://localhost:8080/"
        },
        "id": "v4DBdhMWgL1g",
        "outputId": "3ca12bb8-5bd5-4254-cbb8-65468ee8b80e"
      },
      "source": [
        "print('nieprawidłowo sklasyfikowane próbki: %d' % (y_test != y_pred).sum())"
      ],
      "execution_count": 189,
      "outputs": [
        {
          "output_type": "stream",
          "text": [
            "nieprawidłowo sklasyfikowane próbki: 29772\n"
          ],
          "name": "stdout"
        }
      ]
    },
    {
      "cell_type": "code",
      "metadata": {
        "colab": {
          "base_uri": "https://localhost:8080/"
        },
        "id": "Oy6qJ-jCgWwT",
        "outputId": "61b8a065-f1be-4191-eb1e-68b232bacb4c"
      },
      "source": [
        "print(accuracy_score(y_test, y_pred))"
      ],
      "execution_count": 190,
      "outputs": [
        {
          "output_type": "stream",
          "text": [
            "0.9371069182389937\n"
          ],
          "name": "stdout"
        }
      ]
    },
    {
      "cell_type": "code",
      "metadata": {
        "colab": {
          "base_uri": "https://localhost:8080/"
        },
        "id": "qP4alMfsgoro",
        "outputId": "0c9fde2c-8bb1-4dd0-e041-6fb8a587afc9"
      },
      "source": [
        "from sklearn.svm import SVC\n",
        "\n",
        "svm = SVC(kernel='rbf', random_state=1, gamma=0.05, C=10)\n",
        "svm.fit(X_train_std, y_train)\n"
      ],
      "execution_count": 191,
      "outputs": [
        {
          "output_type": "execute_result",
          "data": {
            "text/plain": [
              "SVC(C=10, break_ties=False, cache_size=200, class_weight=None, coef0=0.0,\n",
              "    decision_function_shape='ovr', degree=3, gamma=0.05, kernel='rbf',\n",
              "    max_iter=-1, probability=False, random_state=1, shrinking=True, tol=0.001,\n",
              "    verbose=False)"
            ]
          },
          "metadata": {
            "tags": []
          },
          "execution_count": 191
        }
      ]
    },
    {
      "cell_type": "code",
      "metadata": {
        "id": "CrnpoopTi2oL"
      },
      "source": [
        "y_pred = svm.predict(X_test_std)"
      ],
      "execution_count": 192,
      "outputs": []
    },
    {
      "cell_type": "code",
      "metadata": {
        "colab": {
          "base_uri": "https://localhost:8080/"
        },
        "id": "rnvejgaukkUL",
        "outputId": "bdfa2a85-81e8-4d07-faf1-71ee11de5609"
      },
      "source": [
        "print(accuracy_score(y_test, y_pred))"
      ],
      "execution_count": 193,
      "outputs": [
        {
          "output_type": "stream",
          "text": [
            "0.9119496855345912\n"
          ],
          "name": "stdout"
        }
      ]
    },
    {
      "cell_type": "code",
      "metadata": {
        "id": "rUCB3pPJksSU"
      },
      "source": [
        ""
      ],
      "execution_count": 193,
      "outputs": []
    }
  ]
}